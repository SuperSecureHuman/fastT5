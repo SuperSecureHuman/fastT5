{
 "cells": [
  {
   "cell_type": "code",
   "execution_count": 1,
   "metadata": {},
   "outputs": [
    {
     "name": "stdout",
     "output_type": "stream",
     "text": [
      "[2023-10-01 23:03:33,282] [INFO] [real_accelerator.py:158:get_accelerator] Setting ds_accelerator to cuda (auto detect)\n"
     ]
    },
    {
     "name": "stderr",
     "output_type": "stream",
     "text": [
      "Exporting to onnx... |################################| 3/3\n",
      "\u001b[?25h"
     ]
    }
   ],
   "source": [
    "from fastT5 import  generate_onnx_representation\n",
    "\n",
    "\n",
    "model_or_model_path = 't5-small'\n",
    "\n",
    "# Step 1. convert huggingfaces t5 model to onnx\n",
    "onnx_model_paths = generate_onnx_representation(model_or_model_path)"
   ]
  },
  {
   "cell_type": "code",
   "execution_count": 2,
   "metadata": {},
   "outputs": [
    {
     "data": {
      "text/plain": [
       "(PosixPath('/home/venom/repo/fastT5/models/t5-small-encoder.onnx'),\n",
       " PosixPath('/home/venom/repo/fastT5/models/t5-small-decoder.onnx'),\n",
       " PosixPath('/home/venom/repo/fastT5/models/t5-small-init-decoder.onnx'))"
      ]
     },
     "execution_count": 2,
     "metadata": {},
     "output_type": "execute_result"
    }
   ],
   "source": [
    "onnx_model_paths"
   ]
  },
  {
   "cell_type": "code",
   "execution_count": 3,
   "metadata": {},
   "outputs": [
    {
     "ename": "AttributeError",
     "evalue": "FLOAT8E4M3FN",
     "output_type": "error",
     "traceback": [
      "\u001b[0;31m---------------------------------------------------------------------------\u001b[0m",
      "\u001b[0;31mAttributeError\u001b[0m                            Traceback (most recent call last)",
      "\u001b[1;32m/home/venom/repo/fastT5/sample.ipynb Cell 3\u001b[0m line \u001b[0;36m4\n\u001b[1;32m      <a href='vscode-notebook-cell:/home/venom/repo/fastT5/sample.ipynb#W2sZmlsZQ%3D%3D?line=0'>1</a>\u001b[0m \u001b[39mfrom\u001b[39;00m \u001b[39mfastT5\u001b[39;00m \u001b[39mimport\u001b[39;00m quantize\n\u001b[1;32m      <a href='vscode-notebook-cell:/home/venom/repo/fastT5/sample.ipynb#W2sZmlsZQ%3D%3D?line=2'>3</a>\u001b[0m \u001b[39m# Step 2. (recommended) quantize the converted model for fast inference and to reduce model size.\u001b[39;00m\n\u001b[0;32m----> <a href='vscode-notebook-cell:/home/venom/repo/fastT5/sample.ipynb#W2sZmlsZQ%3D%3D?line=3'>4</a>\u001b[0m quant_model_paths \u001b[39m=\u001b[39m quantize(onnx_model_paths)\n",
      "File \u001b[0;32m~/repo/fastT5/fastT5/onnx_exporter.py:277\u001b[0m, in \u001b[0;36mquantize\u001b[0;34m(models_name_or_path)\u001b[0m\n\u001b[1;32m    266\u001b[0m \u001b[39mdef\u001b[39;00m \u001b[39mquantize\u001b[39m(models_name_or_path):\n\u001b[1;32m    267\u001b[0m \u001b[39m    \u001b[39m\u001b[39m\"\"\"\u001b[39;00m\n\u001b[1;32m    268\u001b[0m \u001b[39m    Quantize the weights of the model from float32 to in8 to allow very efficient inference on modern CPU\u001b[39;00m\n\u001b[1;32m    269\u001b[0m \n\u001b[0;32m   (...)\u001b[0m\n\u001b[1;32m    275\u001b[0m \u001b[39m    Returns: The Path generated for the quantized\u001b[39;00m\n\u001b[1;32m    276\u001b[0m \u001b[39m    \"\"\"\u001b[39;00m\n\u001b[0;32m--> 277\u001b[0m     \u001b[39mfrom\u001b[39;00m \u001b[39monnxruntime\u001b[39;00m\u001b[39m.\u001b[39;00m\u001b[39mquantization\u001b[39;00m \u001b[39mimport\u001b[39;00m quantize_dynamic, QuantType\n\u001b[1;32m    279\u001b[0m     bar \u001b[39m=\u001b[39m Bar(\u001b[39m\"\u001b[39m\u001b[39mQuantizing...\u001b[39m\u001b[39m\"\u001b[39m, \u001b[39mmax\u001b[39m\u001b[39m=\u001b[39m\u001b[39mlen\u001b[39m(models_name_or_path))\n\u001b[1;32m    281\u001b[0m     quant_model_paths \u001b[39m=\u001b[39m []\n",
      "File \u001b[0;32m~/mambaforge/lib/python3.9/site-packages/onnxruntime/quantization/__init__.py:1\u001b[0m\n\u001b[0;32m----> 1\u001b[0m \u001b[39mfrom\u001b[39;00m \u001b[39m.\u001b[39;00m\u001b[39mcalibrate\u001b[39;00m \u001b[39mimport\u001b[39;00m (  \u001b[39m# noqa: F401\u001b[39;00m\n\u001b[1;32m      2\u001b[0m     CalibraterBase,\n\u001b[1;32m      3\u001b[0m     CalibrationDataReader,\n\u001b[1;32m      4\u001b[0m     CalibrationMethod,\n\u001b[1;32m      5\u001b[0m     MinMaxCalibrater,\n\u001b[1;32m      6\u001b[0m     create_calibrator,\n\u001b[1;32m      7\u001b[0m )\n\u001b[1;32m      8\u001b[0m \u001b[39mfrom\u001b[39;00m \u001b[39m.\u001b[39;00m\u001b[39mmatmul_weight4_quantizer\u001b[39;00m \u001b[39mimport\u001b[39;00m MatMulWeight4Quantizer  \u001b[39m# noqa: F401\u001b[39;00m\n\u001b[1;32m      9\u001b[0m \u001b[39mfrom\u001b[39;00m \u001b[39m.\u001b[39;00m\u001b[39mqdq_quantizer\u001b[39;00m \u001b[39mimport\u001b[39;00m QDQQuantizer  \u001b[39m# noqa: F401\u001b[39;00m\n",
      "File \u001b[0;32m~/mambaforge/lib/python3.9/site-packages/onnxruntime/quantization/calibrate.py:21\u001b[0m\n\u001b[1;32m     17\u001b[0m \u001b[39mfrom\u001b[39;00m \u001b[39monnx\u001b[39;00m \u001b[39mimport\u001b[39;00m ModelProto, TensorProto, helper, numpy_helper\n\u001b[1;32m     19\u001b[0m \u001b[39mimport\u001b[39;00m \u001b[39monnxruntime\u001b[39;00m\n\u001b[0;32m---> 21\u001b[0m \u001b[39mfrom\u001b[39;00m \u001b[39m.\u001b[39;00m\u001b[39mquant_utils\u001b[39;00m \u001b[39mimport\u001b[39;00m apply_plot, load_model_with_shape_infer, smooth_distribution\n\u001b[1;32m     24\u001b[0m \u001b[39mclass\u001b[39;00m \u001b[39mTensorData\u001b[39;00m:\n\u001b[1;32m     25\u001b[0m     _allowed \u001b[39m=\u001b[39m \u001b[39mfrozenset\u001b[39m([\u001b[39m\"\u001b[39m\u001b[39mavg\u001b[39m\u001b[39m\"\u001b[39m, \u001b[39m\"\u001b[39m\u001b[39mstd\u001b[39m\u001b[39m\"\u001b[39m, \u001b[39m\"\u001b[39m\u001b[39mlowest\u001b[39m\u001b[39m\"\u001b[39m, \u001b[39m\"\u001b[39m\u001b[39mhighest\u001b[39m\u001b[39m\"\u001b[39m, \u001b[39m\"\u001b[39m\u001b[39mhist\u001b[39m\u001b[39m\"\u001b[39m, \u001b[39m\"\u001b[39m\u001b[39mhist_edges\u001b[39m\u001b[39m\"\u001b[39m])\n",
      "File \u001b[0;32m~/mambaforge/lib/python3.9/site-packages/onnxruntime/quantization/quant_utils.py:115\u001b[0m\n\u001b[1;32m    108\u001b[0m         \u001b[39mexcept\u001b[39;00m \u001b[39mKeyError\u001b[39;00m:\n\u001b[1;32m    109\u001b[0m             \u001b[39mraise\u001b[39;00m \u001b[39mValueError\u001b[39;00m()  \u001b[39m# noqa: B904\u001b[39;00m\n\u001b[1;32m    112\u001b[0m ONNX_TYPE_TO_NP_TYPE \u001b[39m=\u001b[39m {\n\u001b[1;32m    113\u001b[0m     onnx_proto\u001b[39m.\u001b[39mTensorProto\u001b[39m.\u001b[39mINT8: numpy\u001b[39m.\u001b[39mdtype(\u001b[39m\"\u001b[39m\u001b[39mint8\u001b[39m\u001b[39m\"\u001b[39m),\n\u001b[1;32m    114\u001b[0m     onnx_proto\u001b[39m.\u001b[39mTensorProto\u001b[39m.\u001b[39mUINT8: numpy\u001b[39m.\u001b[39mdtype(\u001b[39m\"\u001b[39m\u001b[39muint8\u001b[39m\u001b[39m\"\u001b[39m),\n\u001b[0;32m--> 115\u001b[0m     onnx_proto\u001b[39m.\u001b[39;49mTensorProto\u001b[39m.\u001b[39;49mFLOAT8E4M3FN: float8e4m3fn,\n\u001b[1;32m    116\u001b[0m }\n\u001b[1;32m    119\u001b[0m \u001b[39mdef\u001b[39;00m \u001b[39mquantize_nparray\u001b[39m(qType, arr, scale, zero_point, low\u001b[39m=\u001b[39m\u001b[39mNone\u001b[39;00m, high\u001b[39m=\u001b[39m\u001b[39mNone\u001b[39;00m):\n\u001b[1;32m    120\u001b[0m     \u001b[39massert\u001b[39;00m qType \u001b[39min\u001b[39;00m ONNX_TYPE_TO_NP_TYPE, \u001b[39mf\u001b[39m\u001b[39m\"\u001b[39m\u001b[39mUnexpected data type \u001b[39m\u001b[39m{\u001b[39;00mqType\u001b[39m}\u001b[39;00m\u001b[39m requested. Only INT8 and UINT8 are supported.\u001b[39m\u001b[39m\"\u001b[39m\n",
      "\u001b[0;31mAttributeError\u001b[0m: FLOAT8E4M3FN"
     ]
    }
   ],
   "source": [
    "from fastT5 import quantize\n",
    "\n",
    "# Step 2. (recommended) quantize the converted model for fast inference and to reduce model size.\n",
    "quant_model_paths = quantize(onnx_model_paths)"
   ]
  },
  {
   "cell_type": "code",
   "execution_count": null,
   "metadata": {},
   "outputs": [],
   "source": [
    "quant_model_paths"
   ]
  },
  {
   "cell_type": "code",
   "execution_count": null,
   "metadata": {},
   "outputs": [],
   "source": [
    "import onnxruntime as ort\n",
    "\n",
    "ort.get_all_providers()"
   ]
  },
  {
   "cell_type": "code",
   "execution_count": null,
   "metadata": {},
   "outputs": [],
   "source": [
    "from fastT5 import get_onnx_runtime_sessions, OnnxT5\n",
    "\n",
    "# step 3. setup onnx runtime\n",
    "device = \"CPU_FP32\"\n",
    "model_sessions = get_onnx_runtime_sessions(quant_model_paths, provider=[\"OpenVINOExecutionProvider\"], provider_options=[{'device_type': 'CPU_FP32'}])\n",
    "\n",
    "# step 4. get the onnx model\n",
    "model = OnnxT5(model_or_model_path, model_sessions)"
   ]
  },
  {
   "cell_type": "code",
   "execution_count": null,
   "metadata": {},
   "outputs": [],
   "source": [
    "from transformers import AutoTokenizer\n",
    "tokenizer = AutoTokenizer.from_pretrained(\"t5-small\")"
   ]
  },
  {
   "cell_type": "code",
   "execution_count": null,
   "metadata": {},
   "outputs": [],
   "source": [
    "text = \"\"\"\n",
    "Translate English to French: Lisa Marie Nowak (née Caputo, born May 10, 1963) is an American aeronautical engineer, convicted criminal, and former NASA astronaut and United States Navy officer. Nowak served as naval flight officer and test pilot in the Navy, and was selected by NASA for NASA Astronaut Group 16 in 1996, qualifying as a mission specialist in robotics. She flew in space aboard Space Shuttle Discovery during the STS-121 mission in July 2006, when she was responsible for operating the robotic arms of the shuttle and the International Space Station. In 2007, Nowak was involved in a highly publicized incident of criminal misconduct for which she eventually pled guilty to felony burglary and misdemeanor battery charges, resulting in her demotion from captain to commander, and termination by NASA and the Navy. Born in Washington, D.C., Nowak graduated from the United States Naval Academy in Annapolis, Maryland, in 1985. She was assigned to VAQ-34 at Naval Air Station Point Mugu, California, where she flew the EA-7L Corsair and ERA-3B Skywarrior. She earned a Master of Science degree in aeronautical engineering and a degree in aeronautical and astronautical engineering from the Naval Postgraduate School in Monterey, California. In 1993 she was selected to attend the U.S. Naval Test Pilot School at Naval Air Station Patuxent River, Maryland. After graduation, she remained at Patuxent River, flying in the F/A-18 Hornet and EA-6B Prowler. During her Navy career she logged over 1,500 hours in more than 30 aircraft and was awarded the Defense Meritorious Service Medal, the Navy Commendation Medal and the Navy Achievement Medal.In February 2007, Nowak was arrested in Orlando, Florida, after she accosted and pepper-sprayed Colleen Shipman, a U.S. Air Force captain romantically involved with astronaut William Oefelein, who had been in a relationship with Nowak. She was released on bail and initially pleaded not guilty to the charges, which included attempted kidnapping, burglary with assault, and battery. Subsequently, her assignment as an astronaut was terminated by NASA. In 2009, Nowak agreed to a plea deal with prosecutors and pleaded guilty to charges of felony burglary of a car and misdemeanor battery. She remained a Navy captain until the following year when a Naval Board of Inquiry voted unanimously to reduce her in rank to commander and to discharge her from the Navy under other than honorable conditions after 25 years of service. As of 2017, it was reported that she was working in the private sector in Texas. Early life and education Lisa Marie Caputo was born in Washington, D.C., on May 10, 1963, to Alfredo F. Caputo, a computer consultant, and Jane L.and termination by NASA and the Navy. Born in Washington, D.C., Nowak graduated from the United States Naval Academy in Annapolis, Maryland, in 1985. She was assigned to VAQ-34 at Naval Air Station Point Mugu, California, where she flew the EA-7L Corsair and ERA-3B Skywarrior. She earned a Master of Science degree in aeronautical engineering and a degree in aeronautical and astronautical engineering from the Naval Postgraduate School in Monterey, California. In 1993 she was selected to attend the U.S. Naval Test Pilot School at Naval Air Station Patuxent River, Maryland. After graduation, she remained at Patuxent River, flying in the F/A-18 Hornet and EA-6B Prowler. During her Navy career she logged over 1,500 hours in more than 30 aircraft and was awarded the Defense Meritorious Service Medal, the Navy Commendation Medal and the Navy Achievement Medal. In February 2007, Nowak was arrested in Orlando, Florida, after she accosted and pepper-sprayed Colleen Shipman, a U.S. Air Force captain romantically involved with astronaut William Oefelein, who had been in a relationship with Nowak. She was released on bail and initially pleaded not guilty to the charges, which included attempted kidnapping, burglary with assault, and battery. Subsequently, her assignment as an astronaut was terminated by NASA. In 2009, Nowak agreed to a plea deal with prosecutors and pleaded guilty to charges of felony burglary of a car and misdemeanor battery. She remained a Navy captain until the following year when a Naval Board of Inquiry voted unanimously to reduce her in rank to commander and to discharge her from the Navy under other than honorable conditions after 25 years of service. As of 2017, it was reported that she was working in the private sector in Texas. Early life and education Lisa Marie Caputo was born in Washington, D.C., on May 10, 1963, to Alfredo F. Caputo, a computer consultant, and Jane L\"\"\""
   ]
  },
  {
   "cell_type": "code",
   "execution_count": null,
   "metadata": {},
   "outputs": [],
   "source": [
    "token = tokenizer(text, return_tensors='pt', max_length=512, truncation=True)"
   ]
  },
  {
   "cell_type": "code",
   "execution_count": null,
   "metadata": {},
   "outputs": [],
   "source": [
    "tokens = model.generate(input_ids=token['input_ids'],\n",
    "               attention_mask=token['attention_mask'],)"
   ]
  },
  {
   "cell_type": "code",
   "execution_count": null,
   "metadata": {},
   "outputs": [],
   "source": []
  }
 ],
 "metadata": {
  "kernelspec": {
   "display_name": "base",
   "language": "python",
   "name": "python3"
  },
  "language_info": {
   "codemirror_mode": {
    "name": "ipython",
    "version": 3
   },
   "file_extension": ".py",
   "mimetype": "text/x-python",
   "name": "python",
   "nbconvert_exporter": "python",
   "pygments_lexer": "ipython3",
   "version": "3.9.18"
  },
  "orig_nbformat": 4
 },
 "nbformat": 4,
 "nbformat_minor": 2
}
